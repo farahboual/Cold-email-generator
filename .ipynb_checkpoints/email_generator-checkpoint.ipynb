{
 "cells": [
  {
   "cell_type": "code",
   "execution_count": 1,
   "id": "7efe7013-a01e-4970-8ed7-0da8d3309110",
   "metadata": {},
   "outputs": [
    {
     "name": "stdout",
     "output_type": "stream",
     "text": [
      "The first person to land on the moon was Neil Armstrong. He stepped onto the lunar surface on July 20, 1969, as part of the Apollo 11 mission.\n"
     ]
    }
   ],
   "source": [
    "from langchain_groq import ChatGroq\n",
    "\n",
    "llm = ChatGroq(\n",
    "    temperature=0,\n",
    "    groq_api_key='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',\n",
    "    model_name=\"llama-3.1-70b-versatile\"\n",
    ")\n",
    "response = llm.invoke(\"The first person to land on moon was ...\")\n",
    "print(response.content)"
   ]
  },
  {
   "cell_type": "code",
   "execution_count": 2,
   "id": "90895b74-6002-4eb5-8a4c-9c906b39e202",
   "metadata": {},
   "outputs": [
    {
     "name": "stdout",
     "output_type": "stream",
     "text": [
      "Note: you may need to restart the kernel to use updated packages.\n"
     ]
    }
   ],
   "source": [
    "%pip install -qU langchain_community beautifulsoup4"
   ]
  },
  {
   "cell_type": "code",
   "execution_count": 5,
   "id": "ef9f9f90-1f24-4c1b-9f44-646855b19322",
   "metadata": {},
   "outputs": [
    {
     "name": "stdout",
     "output_type": "stream",
     "text": [
      "Apply for Software Engineer III\n",
      "\n",
      "Search JobsSkip navigationSearch JobsNIKE, INC. JOBSContract JobsJoin The Talent CommunityLife @ NikeOverviewBenefitsBrandsOverviewJordanConverseTeamsOverviewAdministrative SupportAdvanced InnovationAir Manufacturing InnovationAviationCommunicationsCustomer ServiceDesignDigitalFacilitiesFinance & AccountingGovernment & Public AffairsHuman ResourcesInsights & AnalyticsLegalManufacturing & EngineeringMarketingMerchandisingPlanningPrivacyProcurementProduct Creation, Development & ManagementRetail CorporateRetail StoresSalesSocial & Community ImpactSports MarketingStrategic PlanningSupply Chain, Distribution & LogisticsSustainabilityTechnologyLocationsOverviewNike WHQNike New York HQEHQ: Hilversum, The NetherlandsELC: Laakdal, BelgiumGreater China HQDiversity, Equity & InclusionOverviewMilitary InclusionDisability InclusionIndigenous InclusionInternshipsTechnologySoftware Engineer IIIShanghai, China MainlandBecome a Part of the NIKE, Inc. TeamNIKE, Inc. does more than outfit the world’s best athletes. It is a place to explore potential, obliterate boundaries and push out the edges of what can be. The company looks for people who can grow, think, dream and create. Its culture thrives by embracing diversity and rewarding imagination. The brand seeks achievers, leaders and visionaries. At NIKE, Inc. it’s about each person bringing skills and passion to a challenging and constantly evolving game.NIKE is a technology company. From our flagship website and five-star mobile apps to developing products, managing big data and providing leading edge engineering and systems support, our teams at NIKE Global Technology exist to revolutionize the future at the confluence of tech and sport. We invest and develop advances in technology and employ the most creative people in the world, and then give them the support to constantly innovate, iterate and serve consumers more directly and personally.  Our teams are innovative, diverse, multidisciplinary and collaborative, taking technology into the future and bringing the world with it.Software Engineer (iOS) - Nike Digital Engineering, Global Technology Nike isn't just a brand for elite athletes—it's a place to explore your potential, break boundaries, and push limits. We seek individuals who grow, innovate, dream big, and create. Our culture celebrates diversity and rewards imagination. We want achievers, leaders, and visionaries ready to apply their skills to Nike's ever-evolving, challenging landscape. Ready to innovate and lead in the digital realm? Join our Global Technology Engineering team. We combine technological expertise and streamlined processes to deliver comprehensive solutions for Nike, Inc.'s digital products and services. By harnessing cutting-edge technology, years of athlete insights, and skills like consumer analytics, statistics, digital marketing, software development, and social media engagement, we create and deploy seamless experiences for athletes worldwide. We're excited to be at the forefront of the tech revolution and are looking for like-minded individuals to join our team.  Scope and Responsibilities: As a Software Engineer on the Mobile App Team, your main focus will be ensuring Chinese consumers enjoy the best possible experience with Nike's app products. You'll use your research and development skills to create solutions that meet our business needs while your expertise will produce high-quality, scalable, and maintainable code. By leading through example, you'll foster our culture and champion new technologies and development methods. We're looking for a candidate with extensive mobile development experience who excels in a collaborative setting. You should have a strong grasp of software engineering basics and a keen desire for ongoing learning and teamwork. Your awareness of current tech trends will help you decide when and how to apply them effectively.  Required Qualifications: Master's or Bachelor's degree in Computer Science or related field 6+ years of iOS native development experience Fluency in Swift, with recent hands-on experience Ability to write clean, well-structured code Experience with modular architectures Proficiency in UI, database, networking, multi-threading, and app security (some or all) Experience in collaborative coding environments, including code reviews and Git-based pull requests Track record of creating and maintaining pods for multiple projects Skill in estimating, planning, and implementing complex software projects Ability to work effectively with Product Managers, developers, and QA teams Self-motivated with a passion for technology and continuous improvement Openness to new technologies and innovative solutions Strong commitment to quality and attention to detail Proficient in English as the primary working language   NIKE, Inc. is a growth company that looks for team members to grow with it. Nike offers a generous total rewards package, casual work environment, a diverse and inclusive culture, and an electric atmosphere for professional development. No matter the location, or the role, every Nike employee shares one galvanizing mission: To bring inspiration and innovation to every athlete* in the world.NIKE, Inc. is committed to employing a diverse workforce. Qualified applicants will receive consideration without regard to race, color, religion, sex, national origin, age, sexual orientation, gender identity, gender expression, veteran status, or disability.How We HireAt NIKE, Inc. we promise to provide a premium, inclusive, compelling and authentic candidate experience. Delivering on this promise means we allow you to be at your best — and to do that, you need to understand how the hiring process works. Transparency is key.\n",
      "\n",
      "* This overview explains our hiring process for corporate roles. Note there may be different hiring steps involved for non-corporate roles.Start nowBenefitsWhether it’s transportation or financial health, we continually invest in our employees to help them achieve greatness — inside and outside of work. All who work here should be able to realize their full potential.Employee Assistance ProgramHolidaysMedical PlanPaid Time Off (PTO)Product DiscountsLearn moreGIFT CARDSPROMOTIONSFIND A STORESIGN UP FOR EMAILBECOME A MEMBERNIKE JOURNALSEND US FEEDBACKGET HELPGET HELPOrder StatusShipping and DeliveryReturnsPayment OptionsGift Cards BalanceContact UsABOUT NIKEABOUT NIKENewsCareersInvestorsPurposeSustainabilityUnited States© 2024 Nike, Inc. All Rights ReservedGuidesNike AdaptNike Air MaxNike FlyleatherNike ReactSpace HippieNike AirNike FlyEaseNike Free Nike VaporflyNike Air Force 1 Nike FlyknitNike JoyrideNike ZoomXTerms of SaleTerms of UseNike Privacy PolicyYour Privacy ChoicesCA Supply Chain Act\n"
     ]
    }
   ],
   "source": [
    "from langchain_community.document_loaders import WebBaseLoader\n",
    "\n",
    "loader = WebBaseLoader(\"https://jobs.nike.com/job/R-43237\")\n",
    "page_data = loader.load().pop().page_content\n",
    "print(page_data)\n",
    "\n"
   ]
  },
  {
   "cell_type": "code",
   "execution_count": 10,
   "id": "6570b5ba-ba8a-46f9-8c8f-2a435ae34f13",
   "metadata": {},
   "outputs": [
    {
     "data": {
      "text/plain": [
       "str"
      ]
     },
     "execution_count": 10,
     "metadata": {},
     "output_type": "execute_result"
    }
   ],
   "source": [
    "from langchain_core.prompts import PromptTemplate\n",
    "prompt_extract = PromptTemplate.from_template(\n",
    "        \"\"\"\n",
    "        ### SCRAPED TEXT FROM WEBSITE:\n",
    "        {page_data}\n",
    "        ### INSTRUCTION:\n",
    "        The scraped text is from the career's page of a website.\n",
    "        Your job is to extract the job postings and return them in JSON format containing the \n",
    "        following keys: `role`, `experience`, `skills` and `description`.\n",
    "        Only return the valid JSON.\n",
    "        ### VALID JSON (NO PREAMBLE):    \n",
    "        \"\"\"\n",
    ")\n",
    "chain_extract = prompt_extract | llm\n",
    "res = chain_extract.invoke(input={'page_data':page_data})\n",
    "type(res.content)\n",
    "\n",
    "    "
   ]
  },
  {
   "cell_type": "code",
   "execution_count": 11,
   "id": "108b73f3-0247-4dad-a4d7-4e881eb36208",
   "metadata": {},
   "outputs": [
    {
     "data": {
      "text/plain": [
       "{'role': 'Software Engineer III',\n",
       " 'experience': '6+ years of iOS native development experience',\n",
       " 'skills': [\"Master's or Bachelor's degree in Computer Science or related field\",\n",
       "  'Fluency in Swift, with recent hands-on experience',\n",
       "  'Ability to write clean, well-structured code',\n",
       "  'Experience with modular architectures',\n",
       "  'Proficiency in UI, database, networking, multi-threading, and app security (some or all)',\n",
       "  'Experience in collaborative coding environments, including code reviews and Git-based pull requests',\n",
       "  'Track record of creating and maintaining pods for multiple projects',\n",
       "  'Skill in estimating, planning, and implementing complex software projects',\n",
       "  'Ability to work effectively with Product Managers, developers, and QA teams',\n",
       "  'Self-motivated with a passion for technology and continuous improvement',\n",
       "  'Openness to new technologies and innovative solutions',\n",
       "  'Strong commitment to quality and attention to detail',\n",
       "  'Proficient in English as the primary working language'],\n",
       " 'description': \"As a Software Engineer on the Mobile App Team, your main focus will be ensuring Chinese consumers enjoy the best possible experience with Nike's app products. You'll use your research and development skills to create solutions that meet our business needs while your expertise will produce high-quality, scalable, and maintainable code. By leading through example, you'll foster our culture and champion new technologies and development methods.\"}"
      ]
     },
     "execution_count": 11,
     "metadata": {},
     "output_type": "execute_result"
    }
   ],
   "source": [
    "from langchain_core.output_parsers import JsonOutputParser\n",
    "json_parser = JsonOutputParser()\n",
    "json_res = json_parser.parse(res.content)\n",
    "json_res"
   ]
  },
  {
   "cell_type": "code",
   "execution_count": 12,
   "id": "24ab4919-b9bc-4219-968f-74762216971e",
   "metadata": {},
   "outputs": [
    {
     "data": {
      "text/plain": [
       "dict"
      ]
     },
     "execution_count": 12,
     "metadata": {},
     "output_type": "execute_result"
    }
   ],
   "source": [
    "type(json_res)"
   ]
  },
  {
   "cell_type": "code",
   "execution_count": 20,
   "id": "8e6b4a6c-1be8-45ba-b913-9c6489838919",
   "metadata": {},
   "outputs": [
    {
     "data": {
      "text/html": [
       "<div>\n",
       "<style scoped>\n",
       "    .dataframe tbody tr th:only-of-type {\n",
       "        vertical-align: middle;\n",
       "    }\n",
       "\n",
       "    .dataframe tbody tr th {\n",
       "        vertical-align: top;\n",
       "    }\n",
       "\n",
       "    .dataframe thead th {\n",
       "        text-align: right;\n",
       "    }\n",
       "</style>\n",
       "<table border=\"1\" class=\"dataframe\">\n",
       "  <thead>\n",
       "    <tr style=\"text-align: right;\">\n",
       "      <th></th>\n",
       "      <th>Techstack</th>\n",
       "      <th>Links</th>\n",
       "    </tr>\n",
       "  </thead>\n",
       "  <tbody>\n",
       "    <tr>\n",
       "      <th>0</th>\n",
       "      <td>React, Node.js, MongoDB</td>\n",
       "      <td>https://example.com/react-portfolio</td>\n",
       "    </tr>\n",
       "    <tr>\n",
       "      <th>1</th>\n",
       "      <td>Angular,.NET, SQL Server</td>\n",
       "      <td>https://example.com/angular-portfolio</td>\n",
       "    </tr>\n",
       "    <tr>\n",
       "      <th>2</th>\n",
       "      <td>Vue.js, Ruby on Rails, PostgreSQL</td>\n",
       "      <td>https://example.com/vue-portfolio</td>\n",
       "    </tr>\n",
       "    <tr>\n",
       "      <th>3</th>\n",
       "      <td>Python, Django, MySQL</td>\n",
       "      <td>https://example.com/python-portfolio</td>\n",
       "    </tr>\n",
       "    <tr>\n",
       "      <th>4</th>\n",
       "      <td>Java, Spring Boot, Oracle</td>\n",
       "      <td>https://example.com/java-portfolio</td>\n",
       "    </tr>\n",
       "    <tr>\n",
       "      <th>5</th>\n",
       "      <td>Flutter, Firebase, GraphQL</td>\n",
       "      <td>https://example.com/flutter-portfolio</td>\n",
       "    </tr>\n",
       "    <tr>\n",
       "      <th>6</th>\n",
       "      <td>WordPress, PHP, MySQL</td>\n",
       "      <td>https://example.com/wordpress-portfolio</td>\n",
       "    </tr>\n",
       "    <tr>\n",
       "      <th>7</th>\n",
       "      <td>Magento, PHP, MySQL</td>\n",
       "      <td>https://example.com/magento-portfolio</td>\n",
       "    </tr>\n",
       "    <tr>\n",
       "      <th>8</th>\n",
       "      <td>React Native, Node.js, MongoDB</td>\n",
       "      <td>https://example.com/react-native-portfolio</td>\n",
       "    </tr>\n",
       "    <tr>\n",
       "      <th>9</th>\n",
       "      <td>iOS, Swift, Core Data</td>\n",
       "      <td>https://example.com/ios-portfolio</td>\n",
       "    </tr>\n",
       "    <tr>\n",
       "      <th>10</th>\n",
       "      <td>Android, Java, Room Persistence</td>\n",
       "      <td>https://example.com/android-portfolio</td>\n",
       "    </tr>\n",
       "    <tr>\n",
       "      <th>11</th>\n",
       "      <td>Kotlin, Android, Firebase</td>\n",
       "      <td>https://example.com/kotlin-android-portfolio</td>\n",
       "    </tr>\n",
       "    <tr>\n",
       "      <th>12</th>\n",
       "      <td>Android TV, Kotlin, Android NDK</td>\n",
       "      <td>https://example.com/android-tv-portfolio</td>\n",
       "    </tr>\n",
       "    <tr>\n",
       "      <th>13</th>\n",
       "      <td>iOS, Swift, ARKit</td>\n",
       "      <td>https://example.com/ios-ar-portfolio</td>\n",
       "    </tr>\n",
       "    <tr>\n",
       "      <th>14</th>\n",
       "      <td>Cross-platform, Xamarin, Azure</td>\n",
       "      <td>https://example.com/xamarin-portfolio</td>\n",
       "    </tr>\n",
       "    <tr>\n",
       "      <th>15</th>\n",
       "      <td>Backend, Kotlin, Spring Boot</td>\n",
       "      <td>https://example.com/kotlin-backend-portfolio</td>\n",
       "    </tr>\n",
       "    <tr>\n",
       "      <th>16</th>\n",
       "      <td>Frontend, TypeScript, Angular</td>\n",
       "      <td>https://example.com/typescript-frontend-portfolio</td>\n",
       "    </tr>\n",
       "    <tr>\n",
       "      <th>17</th>\n",
       "      <td>Full-stack, JavaScript, Express.js</td>\n",
       "      <td>https://example.com/full-stack-js-portfolio</td>\n",
       "    </tr>\n",
       "    <tr>\n",
       "      <th>18</th>\n",
       "      <td>Machine Learning, Python, TensorFlow</td>\n",
       "      <td>https://example.com/ml-python-portfolio</td>\n",
       "    </tr>\n",
       "    <tr>\n",
       "      <th>19</th>\n",
       "      <td>DevOps, Jenkins, Docker</td>\n",
       "      <td>https://example.com/devops-portfolio</td>\n",
       "    </tr>\n",
       "  </tbody>\n",
       "</table>\n",
       "</div>"
      ],
      "text/plain": [
       "                               Techstack  \\\n",
       "0                React, Node.js, MongoDB   \n",
       "1               Angular,.NET, SQL Server   \n",
       "2      Vue.js, Ruby on Rails, PostgreSQL   \n",
       "3                  Python, Django, MySQL   \n",
       "4              Java, Spring Boot, Oracle   \n",
       "5             Flutter, Firebase, GraphQL   \n",
       "6                  WordPress, PHP, MySQL   \n",
       "7                    Magento, PHP, MySQL   \n",
       "8         React Native, Node.js, MongoDB   \n",
       "9                  iOS, Swift, Core Data   \n",
       "10       Android, Java, Room Persistence   \n",
       "11             Kotlin, Android, Firebase   \n",
       "12       Android TV, Kotlin, Android NDK   \n",
       "13                     iOS, Swift, ARKit   \n",
       "14        Cross-platform, Xamarin, Azure   \n",
       "15          Backend, Kotlin, Spring Boot   \n",
       "16         Frontend, TypeScript, Angular   \n",
       "17    Full-stack, JavaScript, Express.js   \n",
       "18  Machine Learning, Python, TensorFlow   \n",
       "19               DevOps, Jenkins, Docker   \n",
       "\n",
       "                                                Links  \n",
       "0                 https://example.com/react-portfolio  \n",
       "1               https://example.com/angular-portfolio  \n",
       "2                   https://example.com/vue-portfolio  \n",
       "3                https://example.com/python-portfolio  \n",
       "4                  https://example.com/java-portfolio  \n",
       "5               https://example.com/flutter-portfolio  \n",
       "6             https://example.com/wordpress-portfolio  \n",
       "7               https://example.com/magento-portfolio  \n",
       "8          https://example.com/react-native-portfolio  \n",
       "9                   https://example.com/ios-portfolio  \n",
       "10              https://example.com/android-portfolio  \n",
       "11       https://example.com/kotlin-android-portfolio  \n",
       "12           https://example.com/android-tv-portfolio  \n",
       "13               https://example.com/ios-ar-portfolio  \n",
       "14              https://example.com/xamarin-portfolio  \n",
       "15       https://example.com/kotlin-backend-portfolio  \n",
       "16  https://example.com/typescript-frontend-portfolio  \n",
       "17        https://example.com/full-stack-js-portfolio  \n",
       "18            https://example.com/ml-python-portfolio  \n",
       "19               https://example.com/devops-portfolio  "
      ]
     },
     "execution_count": 20,
     "metadata": {},
     "output_type": "execute_result"
    }
   ],
   "source": [
    "import pandas as pd\n",
    "df = pd.read_csv(\"C:/Users/Admin/Downloads/my_portfolio.csv\")\n",
    "df"
   ]
  },
  {
   "cell_type": "code",
   "execution_count": 23,
   "id": "e69f0c9b-2429-4821-bd95-4e3138f88dde",
   "metadata": {},
   "outputs": [],
   "source": [
    "import uuid\n",
    "import chromadb\n",
    "client = chromadb.PersistentClient('vectorstore')\n",
    "collection = client.get_or_create_collection(name=\"portfolio\")\n",
    "if not collection.count():\n",
    "    for _, row in df.iterrows():\n",
    "        collection.add(documents=row[\"Techstack\"],\n",
    "                       metadatas={\"links\": row[\"Links\"]},\n",
    "                       ids=[str(uuid.uuid4())])"
   ]
  },
  {
   "cell_type": "code",
   "execution_count": 35,
   "id": "a8d270e9-ff6d-45ef-80ca-acea0ffadff5",
   "metadata": {},
   "outputs": [
    {
     "data": {
      "text/plain": [
       "[[{'links': 'https://example.com/ml-python-portfolio'},\n",
       "  {'links': 'https://example.com/python-portfolio'}],\n",
       " [{'links': 'https://example.com/ios-ar-portfolio'},\n",
       "  {'links': 'https://example.com/ios-portfolio'}],\n",
       " [{'links': 'https://example.com/magento-portfolio'},\n",
       "  {'links': 'https://example.com/full-stack-js-portfolio'}],\n",
       " [{'links': 'https://example.com/ml-python-portfolio'},\n",
       "  {'links': 'https://example.com/android-portfolio'}],\n",
       " [{'links': 'https://example.com/ios-ar-portfolio'},\n",
       "  {'links': 'https://example.com/ml-python-portfolio'}],\n",
       " [{'links': 'https://example.com/devops-portfolio'},\n",
       "  {'links': 'https://example.com/full-stack-js-portfolio'}],\n",
       " [{'links': 'https://example.com/devops-portfolio'},\n",
       "  {'links': 'https://example.com/ios-portfolio'}],\n",
       " [{'links': 'https://example.com/ml-python-portfolio'},\n",
       "  {'links': 'https://example.com/devops-portfolio'}],\n",
       " [{'links': 'https://example.com/devops-portfolio'},\n",
       "  {'links': 'https://example.com/magento-portfolio'}],\n",
       " [{'links': 'https://example.com/android-portfolio'},\n",
       "  {'links': 'https://example.com/android-tv-portfolio'}],\n",
       " [{'links': 'https://example.com/android-tv-portfolio'},\n",
       "  {'links': 'https://example.com/full-stack-js-portfolio'}],\n",
       " [{'links': 'https://example.com/android-portfolio'},\n",
       "  {'links': 'https://example.com/ios-portfolio'}],\n",
       " [{'links': 'https://example.com/ios-ar-portfolio'},\n",
       "  {'links': 'https://example.com/ios-portfolio'}]]"
      ]
     },
     "execution_count": 35,
     "metadata": {},
     "output_type": "execute_result"
    }
   ],
   "source": [
    "links = collection.query(query_texts=job[\"skills\"], n_results=2).get('metadatas', [])\n",
    "links"
   ]
  },
  {
   "cell_type": "code",
   "execution_count": 44,
   "id": "e1f1d33f-008a-4cc1-9748-7483fcc88425",
   "metadata": {},
   "outputs": [
    {
     "data": {
      "text/plain": [
       "[\"Master's or Bachelor's degree in Computer Science or related field\",\n",
       " 'Fluency in Swift, with recent hands-on experience',\n",
       " 'Ability to write clean, well-structured code',\n",
       " 'Experience with modular architectures',\n",
       " 'Proficiency in UI, database, networking, multi-threading, and app security (some or all)',\n",
       " 'Experience in collaborative coding environments, including code reviews and Git-based pull requests',\n",
       " 'Track record of creating and maintaining pods for multiple projects',\n",
       " 'Skill in estimating, planning, and implementing complex software projects',\n",
       " 'Ability to work effectively with Product Managers, developers, and QA teams',\n",
       " 'Self-motivated with a passion for technology and continuous improvement',\n",
       " 'Openness to new technologies and innovative solutions',\n",
       " 'Strong commitment to quality and attention to detail',\n",
       " 'Proficient in English as the primary working language']"
      ]
     },
     "execution_count": 44,
     "metadata": {},
     "output_type": "execute_result"
    }
   ],
   "source": [
    "job = json_res\n",
    "job['skills']"
   ]
  },
  {
   "cell_type": "code",
   "execution_count": 46,
   "id": "f84fad99-ecb2-44d5-80f1-b89cf861a9c9",
   "metadata": {},
   "outputs": [
    {
     "name": "stdout",
     "output_type": "stream",
     "text": [
      "Subject: Expert iOS Development Services for Nike's Mobile App Team\n",
      "\n",
      "Dear Hiring Manager,\n",
      "\n",
      "I came across the job description for a Software Engineer III position on Nike's Mobile App Team, and I'm excited to introduce AI_in_Need, a leading AI & Software Consulting company that can help fulfill your iOS development needs.\n",
      "\n",
      "With our expertise in iOS native development, we can ensure that Chinese consumers enjoy the best possible experience with Nike's app products. Our team of skilled engineers has hands-on experience with Swift and can create high-quality, scalable, and maintainable code. We're well-versed in modular architectures, UI, database, networking, multi-threading, and app security.\n",
      "\n",
      "Our portfolio showcases our capabilities in iOS development, including:\n",
      "\n",
      "* iOS AR Portfolio: https://example.com/ios-ar-portfolio\n",
      "* iOS Portfolio: https://example.com/ios-portfolio\n",
      "\n",
      "We've empowered numerous enterprises with tailored solutions, fostering scalability, process optimization, cost reduction, and heightened overall efficiency. Our team is committed to quality and attention to detail, and we're passionate about technology and continuous improvement.\n",
      "\n",
      "We'd love to discuss how AI_in_Need can support Nike's Mobile App Team in creating innovative solutions that meet your business needs. Please let us know if you're interested in learning more about our services.\n",
      "\n",
      "Best regards,\n",
      "\n",
      "Farah\n",
      "Business Development Executive\n",
      "AI_in_Need\n"
     ]
    }
   ],
   "source": [
    "prompt_email = PromptTemplate.from_template(\n",
    "    \"\"\"\n",
    "    ### JOB DESCRIPTION:\n",
    "    {job_description}\n",
    "    \n",
    "    ### INSTRUCTION:\n",
    "    You are farah, a business development executive at AI_in_Need. AI_in_Need is an AI & Software Consulting company dedicated to facilitating\n",
    "    the seamless integration of business processes through automated tools. \n",
    "    Over our experience, we have empowered numerous enterprises with tailored solutions, fostering scalability, \n",
    "    process optimization, cost reduction, and heightened overall efficiency. \n",
    "    Your job is to write a cold email to the client regarding the job mentioned above describing the capability of AI_in_Need \n",
    "    in fulfilling their needs.\n",
    "    Also add the most relevant ones from the following links to showcase Atliq's portfolio: {link_list}\n",
    "    Remember you are Mohan, BDE at AI_in_Need. \n",
    "    Do not provide a preamble.\n",
    "    ### EMAIL (NO PREAMBLE):\n",
    "    \n",
    "    \"\"\"\n",
    "    )\n",
    "chain_email = prompt_email | llm \n",
    "res = chain_email.invoke({\"job_description\": str(job), \"link_list\": links}) \n",
    "print(res.content)"
   ]
  }
 ],
 "metadata": {
  "kernelspec": {
   "display_name": "env",
   "language": "python",
   "name": "env"
  },
  "language_info": {
   "codemirror_mode": {
    "name": "ipython",
    "version": 3
   },
   "file_extension": ".py",
   "mimetype": "text/x-python",
   "name": "python",
   "nbconvert_exporter": "python",
   "pygments_lexer": "ipython3",
   "version": "3.11.7"
  }
 },
 "nbformat": 4,
 "nbformat_minor": 5
}
